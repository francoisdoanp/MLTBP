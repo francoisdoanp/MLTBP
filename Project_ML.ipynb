{
  "nbformat": 4,
  "nbformat_minor": 0,
  "metadata": {
    "colab": {
      "name": "Project-ML.ipynb",
      "provenance": [],
      "collapsed_sections": [],
      "include_colab_link": true
    },
    "kernelspec": {
      "display_name": "Python 3",
      "language": "python",
      "name": "python3"
    },
    "language_info": {
      "codemirror_mode": {
        "name": "ipython",
        "version": 3
      },
      "file_extension": ".py",
      "mimetype": "text/x-python",
      "name": "python",
      "nbconvert_exporter": "python",
      "pygments_lexer": "ipython3",
      "version": "3.7.3"
    }
  },
  "cells": [
    {
      "cell_type": "markdown",
      "metadata": {
        "id": "view-in-github",
        "colab_type": "text"
      },
      "source": [
        "<a href=\"https://colab.research.google.com/github/francoisdoanp/MLTBP/blob/master/Project_ML.ipynb\" target=\"_parent\"><img src=\"https://colab.research.google.com/assets/colab-badge.svg\" alt=\"Open In Colab\"/></a>"
      ]
    },
    {
      "cell_type": "markdown",
      "metadata": {
        "colab_type": "text",
        "id": "23I2qdWI4FFG"
      },
      "source": [
        "# **Machine learning - Final Project**\n",
        "\n",
        "# Turbofan engine degradation dataset (NASA)"
      ]
    },
    {
      "cell_type": "markdown",
      "metadata": {
        "colab_type": "text",
        "id": "nOxT0nXc366_"
      },
      "source": [
        "# Data Preparation\n",
        "\n",
        "**Importing necessary packages**\n",
        "\n"
      ]
    },
    {
      "cell_type": "code",
      "metadata": {
        "colab_type": "code",
        "id": "J_GboRpW2F6s",
        "colab": {
          "base_uri": "https://localhost:8080/",
          "height": 80
        },
        "outputId": "fa0fb379-d431-4c37-9186-2b410b52a552"
      },
      "source": [
        "\n",
        "import pandas as pd\n",
        "import numpy as np\n",
        "import keras\n",
        "import matplotlib.pyplot as plt\n",
        "import seaborn as sns\n",
        "from sklearn.preprocessing import MinMaxScaler\n",
        "from sklearn.preprocessing import StandardScaler\n",
        "from sklearn.linear_model import LinearRegression\n",
        "import sklearn.metrics as metrics\n",
        "import math\n",
        "from keras.models import Sequential\n",
        "from keras.layers import Dense, Dropout, Activation, Embedding, LSTM\n",
        "from sklearn.preprocessing import PolynomialFeatures"
      ],
      "execution_count": 2,
      "outputs": [
        {
          "output_type": "stream",
          "text": [
            "Using TensorFlow backend.\n"
          ],
          "name": "stderr"
        },
        {
          "output_type": "display_data",
          "data": {
            "text/html": [
              "<p style=\"color: red;\">\n",
              "The default version of TensorFlow in Colab will soon switch to TensorFlow 2.x.<br>\n",
              "We recommend you <a href=\"https://www.tensorflow.org/guide/migrate\" target=\"_blank\">upgrade</a> now \n",
              "or ensure your notebook will continue to use TensorFlow 1.x via the <code>%tensorflow_version 1.x</code> magic:\n",
              "<a href=\"https://colab.research.google.com/notebooks/tensorflow_version.ipynb\" target=\"_blank\">more info</a>.</p>\n"
            ],
            "text/plain": [
              "<IPython.core.display.HTML object>"
            ]
          },
          "metadata": {
            "tags": []
          }
        }
      ]
    },
    {
      "cell_type": "markdown",
      "metadata": {
        "colab_type": "text",
        "id": "qw2HZErj35aM"
      },
      "source": [
        "**Importing the Turbofan engine degradation dataset.**\n",
        "\n",
        "**Files are located in the following Github repository: https://github.com/francoisdoanp/MLTBP**\n",
        "\n",
        "We have 4 training datasets, which contains information about one hundred engines, all of the same type. Thus, we will combine the training and test data sets. \n",
        "\n",
        "The training and test sets have 21 columns: ID, Time (Cycles), 3 columns for operational settings and 21 sensor measurements.\n",
        "\n",
        "The training and testing sets have the same format, while the validation sets only contain the real RUL (remaining useful life).\n",
        "\n",
        "For more information on the data, consult the read me at the following address:https://github.com/francoisdoanp/MLTBP/blob/master/readme.txt"
      ]
    },
    {
      "cell_type": "code",
      "metadata": {
        "colab_type": "code",
        "id": "CmZzDVll4vDW",
        "colab": {}
      },
      "source": [
        "url_base = 'https://raw.githubusercontent.com/francoisdoanp/MLTBP/master/'\n",
        "\n",
        "file_train_1 = 'train_FD001.txt'\n",
        "file_train_2 = 'train_FD002.txt'\n",
        "file_train_3 = 'train_FD003.txt'\n",
        "file_train_4 = 'train_FD004.txt'\n",
        "\n",
        "file_test_1 = 'test_FD001.txt'\n",
        "file_test_2 = 'test_FD002.txt'\n",
        "file_test_3 = 'test_FD003.txt'\n",
        "file_test_4 = 'test_FD004.txt'\n",
        "\n",
        "file_valid_1 = 'RUL_FD001.txt'\n",
        "file_valid_2 = 'RUL_FD002.txt'\n",
        "file_valid_3 = 'RUL_FD003.txt'\n",
        "file_valid_4 = 'RUL_FD004.txt'\n",
        "\n",
        "\n",
        "pt1 = pd.read_csv(url_base + file_train_1, sep=' ', header=None)\n",
        "pt2 = pd.read_csv(url_base + file_train_2, sep=' ', header=None)\n",
        "pt3 = pd.read_csv(url_base + file_train_3, sep=' ', header=None)\n",
        "pt4 = pd.read_csv(url_base + file_train_4, sep=' ', header=None)\n",
        "\n",
        "pte1 = pd.read_csv(url_base + file_test_1, sep=' ', header=None)\n",
        "pte2 = pd.read_csv(url_base + file_test_2, sep=' ', header=None)\n",
        "pte3 = pd.read_csv(url_base + file_test_3, sep=' ', header=None)\n",
        "pte4 = pd.read_csv(url_base + file_test_4, sep=' ', header=None)\n",
        "\n",
        "pv1 = pd.read_csv(url_base + file_valid_1, header=None)\n",
        "pv2 = pd.read_csv(url_base + file_valid_2, header=None)\n",
        "pv3 = pd.read_csv(url_base + file_valid_3, header=None)\n",
        "pv4 = pd.read_csv(url_base + file_valid_4, header=None)\n",
        "\n",
        "\n",
        "# Updating ids\n",
        "\n",
        "pt2[0] = pt2[0].apply(lambda x: x+100)\n",
        "pt3[0] = pt3[0].apply(lambda x: x+360)\n",
        "pt4[0] = pt4[0].apply(lambda x: x+460)\n",
        "\n",
        "pte2[0] = pte2[0].apply(lambda x: x+100)\n",
        "pte3[0] = pte3[0].apply(lambda x: x+359)\n",
        "pte4[0] = pte4[0].apply(lambda x: x+459)\n",
        "\n",
        "\n",
        "# Joining the dataframes\n",
        "\n",
        "train_pd = pd.concat([pt1,pt2,pt3,pt4])\n",
        "test_pd = pd.concat([pte1,pte2,pte3,pte4])\n",
        "valid_pd = pd.concat([pv1,pv2,pv3,pv4], ignore_index=True)\n",
        "\n",
        "train_pd = train_pd.drop(train_pd.columns[[26,27]], axis='columns')\n",
        "test_pd = test_pd.drop(test_pd.columns[[26,27]], axis='columns')\n",
        "\n",
        "\n",
        "# Assigning labels to Dataframe's columns based on the Readme\n",
        "\n",
        "train_pd.columns = ['id', 'Time (Cycles)', 'OS1', 'OS2', 'OS3', 'S1', 'S2', 'S3', 'S4', 'S5', 'S6', 'S7', 'S8', 'S9', 'S10', 'S11', 'S12', 'S13', 'S14', 'S15', 'S16', 'S17', 'S18', 'S19', 'S20', 'S21']\n",
        "test_pd.columns = ['id', 'Time (Cycles)', 'OS1', 'OS2', 'OS3', 'S1', 'S2', 'S3', 'S4', 'S5', 'S6', 'S7', 'S8', 'S9', 'S10', 'S11', 'S12', 'S13', 'S14', 'S15', 'S16', 'S17', 'S18', 'S19', 'S20', 'S21']\n",
        "valid_pd.columns = ['RUL']\n",
        "\n",
        "#Loading scaler\n",
        "\n",
        "scaler = StandardScaler()\n",
        "  "
      ],
      "execution_count": 0,
      "outputs": []
    },
    {
      "cell_type": "markdown",
      "metadata": {
        "colab_type": "text",
        "id": "G9va4qroPgeB"
      },
      "source": [
        "**Adding variables Conditons and fault mode**\n",
        "\n",
        "Note:\n",
        "\n",
        "**Condition (ONE)** and **Fault ONE** are binary variables.\n",
        "\n",
        "When Condition(ONE) = 1 (true), it means that the condition is at Sea Level\n",
        "\n",
        "When Condition(ONE) = 0 (false), it means NO, the condition IS NOT AT SEA LEVEL, and thus is the  second condition; SIX.\n",
        "\n",
        "When Fault ONE = 1 (true), it means that the fault modes is one (HPC Degradation)\n",
        "\n",
        "When Fault ONE = 0 (false), it means that the fault mode is TWO (HPC Degradation and Fan degradation)"
      ]
    },
    {
      "cell_type": "code",
      "metadata": {
        "colab_type": "code",
        "id": "_WQaAK97PfZU",
        "outputId": "f61e6c21-cc87-4f3e-f022-6d2d87112144",
        "colab": {
          "base_uri": "https://localhost:8080/",
          "height": 419
        }
      },
      "source": [
        "# Adding variables Condition and fault modes\n",
        "\n",
        "def value_condition_train(row):\n",
        "  if (row['id'] <= 100):\n",
        "    return 1\n",
        "  elif (row['id'] <= 360) & (row['id'] > 100):\n",
        "    return 0\n",
        "  elif (row['id'] <= 460) & (row['id'] > 360):\n",
        "    return 1\n",
        "  else:\n",
        "    return 0\n",
        "  \n",
        "def value_fault_train(row):\n",
        "  if (row['id'] <= 100):\n",
        "    return 1\n",
        "  elif (row['id'] <= 360) & (row['id'] > 100):\n",
        "    return 1\n",
        "  elif (row['id'] <= 460) & (row['id'] > 360):\n",
        "    return 0\n",
        "  else:\n",
        "    return 0\n",
        "  \n",
        "def value_condition_test(row):\n",
        "  if (row['id'] <= 100):\n",
        "    return 1\n",
        "  elif (row['id'] <= 359) & (row['id'] > 100):\n",
        "    return 0\n",
        "  elif (row['id'] <= 459) & (row['id'] > 359):\n",
        "    return 1\n",
        "  else:\n",
        "    return 0\n",
        "  \n",
        "def value_fault_test(row):\n",
        "  if (row['id'] <= 100):\n",
        "    return 1\n",
        "  elif (row['id'] <= 359) & (row['id'] > 100):\n",
        "    return 1\n",
        "  elif (row['id'] <= 459) & (row['id'] > 359):\n",
        "    return 0\n",
        "  else:\n",
        "    return 0\n",
        "\n",
        "\n",
        "train_pd['Condition (One)'] = train_pd.apply(value_condition_train, axis=1)\n",
        "train_pd['Fault ONE'] = train_pd.apply(value_fault_train,axis=1)\n",
        "\n",
        "test_pd['Condition (One)'] = test_pd.apply(value_condition_test, axis=1)\n",
        "test_pd['Fault ONE'] = test_pd.apply(value_fault_test,axis=1)\n",
        "\n",
        "display(train_pd)"
      ],
      "execution_count": 4,
      "outputs": [
        {
          "output_type": "display_data",
          "data": {
            "text/html": [
              "<div>\n",
              "<style scoped>\n",
              "    .dataframe tbody tr th:only-of-type {\n",
              "        vertical-align: middle;\n",
              "    }\n",
              "\n",
              "    .dataframe tbody tr th {\n",
              "        vertical-align: top;\n",
              "    }\n",
              "\n",
              "    .dataframe thead th {\n",
              "        text-align: right;\n",
              "    }\n",
              "</style>\n",
              "<table border=\"1\" class=\"dataframe\">\n",
              "  <thead>\n",
              "    <tr style=\"text-align: right;\">\n",
              "      <th></th>\n",
              "      <th>id</th>\n",
              "      <th>Time (Cycles)</th>\n",
              "      <th>OS1</th>\n",
              "      <th>OS2</th>\n",
              "      <th>OS3</th>\n",
              "      <th>S1</th>\n",
              "      <th>S2</th>\n",
              "      <th>S3</th>\n",
              "      <th>S4</th>\n",
              "      <th>S5</th>\n",
              "      <th>S6</th>\n",
              "      <th>S7</th>\n",
              "      <th>S8</th>\n",
              "      <th>S9</th>\n",
              "      <th>S10</th>\n",
              "      <th>S11</th>\n",
              "      <th>S12</th>\n",
              "      <th>S13</th>\n",
              "      <th>S14</th>\n",
              "      <th>S15</th>\n",
              "      <th>S16</th>\n",
              "      <th>S17</th>\n",
              "      <th>S18</th>\n",
              "      <th>S19</th>\n",
              "      <th>S20</th>\n",
              "      <th>S21</th>\n",
              "      <th>Condition (One)</th>\n",
              "      <th>Fault ONE</th>\n",
              "    </tr>\n",
              "  </thead>\n",
              "  <tbody>\n",
              "    <tr>\n",
              "      <th>0</th>\n",
              "      <td>1</td>\n",
              "      <td>1</td>\n",
              "      <td>-0.0007</td>\n",
              "      <td>-0.0004</td>\n",
              "      <td>100.0</td>\n",
              "      <td>518.67</td>\n",
              "      <td>641.82</td>\n",
              "      <td>1589.70</td>\n",
              "      <td>1400.60</td>\n",
              "      <td>14.62</td>\n",
              "      <td>21.61</td>\n",
              "      <td>554.36</td>\n",
              "      <td>2388.06</td>\n",
              "      <td>9046.19</td>\n",
              "      <td>1.30</td>\n",
              "      <td>47.47</td>\n",
              "      <td>521.66</td>\n",
              "      <td>2388.02</td>\n",
              "      <td>8138.62</td>\n",
              "      <td>8.4195</td>\n",
              "      <td>0.03</td>\n",
              "      <td>392</td>\n",
              "      <td>2388</td>\n",
              "      <td>100.0</td>\n",
              "      <td>39.06</td>\n",
              "      <td>23.4190</td>\n",
              "      <td>1</td>\n",
              "      <td>1</td>\n",
              "    </tr>\n",
              "    <tr>\n",
              "      <th>1</th>\n",
              "      <td>1</td>\n",
              "      <td>2</td>\n",
              "      <td>0.0019</td>\n",
              "      <td>-0.0003</td>\n",
              "      <td>100.0</td>\n",
              "      <td>518.67</td>\n",
              "      <td>642.15</td>\n",
              "      <td>1591.82</td>\n",
              "      <td>1403.14</td>\n",
              "      <td>14.62</td>\n",
              "      <td>21.61</td>\n",
              "      <td>553.75</td>\n",
              "      <td>2388.04</td>\n",
              "      <td>9044.07</td>\n",
              "      <td>1.30</td>\n",
              "      <td>47.49</td>\n",
              "      <td>522.28</td>\n",
              "      <td>2388.07</td>\n",
              "      <td>8131.49</td>\n",
              "      <td>8.4318</td>\n",
              "      <td>0.03</td>\n",
              "      <td>392</td>\n",
              "      <td>2388</td>\n",
              "      <td>100.0</td>\n",
              "      <td>39.00</td>\n",
              "      <td>23.4236</td>\n",
              "      <td>1</td>\n",
              "      <td>1</td>\n",
              "    </tr>\n",
              "    <tr>\n",
              "      <th>2</th>\n",
              "      <td>1</td>\n",
              "      <td>3</td>\n",
              "      <td>-0.0043</td>\n",
              "      <td>0.0003</td>\n",
              "      <td>100.0</td>\n",
              "      <td>518.67</td>\n",
              "      <td>642.35</td>\n",
              "      <td>1587.99</td>\n",
              "      <td>1404.20</td>\n",
              "      <td>14.62</td>\n",
              "      <td>21.61</td>\n",
              "      <td>554.26</td>\n",
              "      <td>2388.08</td>\n",
              "      <td>9052.94</td>\n",
              "      <td>1.30</td>\n",
              "      <td>47.27</td>\n",
              "      <td>522.42</td>\n",
              "      <td>2388.03</td>\n",
              "      <td>8133.23</td>\n",
              "      <td>8.4178</td>\n",
              "      <td>0.03</td>\n",
              "      <td>390</td>\n",
              "      <td>2388</td>\n",
              "      <td>100.0</td>\n",
              "      <td>38.95</td>\n",
              "      <td>23.3442</td>\n",
              "      <td>1</td>\n",
              "      <td>1</td>\n",
              "    </tr>\n",
              "    <tr>\n",
              "      <th>3</th>\n",
              "      <td>1</td>\n",
              "      <td>4</td>\n",
              "      <td>0.0007</td>\n",
              "      <td>0.0000</td>\n",
              "      <td>100.0</td>\n",
              "      <td>518.67</td>\n",
              "      <td>642.35</td>\n",
              "      <td>1582.79</td>\n",
              "      <td>1401.87</td>\n",
              "      <td>14.62</td>\n",
              "      <td>21.61</td>\n",
              "      <td>554.45</td>\n",
              "      <td>2388.11</td>\n",
              "      <td>9049.48</td>\n",
              "      <td>1.30</td>\n",
              "      <td>47.13</td>\n",
              "      <td>522.86</td>\n",
              "      <td>2388.08</td>\n",
              "      <td>8133.83</td>\n",
              "      <td>8.3682</td>\n",
              "      <td>0.03</td>\n",
              "      <td>392</td>\n",
              "      <td>2388</td>\n",
              "      <td>100.0</td>\n",
              "      <td>38.88</td>\n",
              "      <td>23.3739</td>\n",
              "      <td>1</td>\n",
              "      <td>1</td>\n",
              "    </tr>\n",
              "    <tr>\n",
              "      <th>4</th>\n",
              "      <td>1</td>\n",
              "      <td>5</td>\n",
              "      <td>-0.0019</td>\n",
              "      <td>-0.0002</td>\n",
              "      <td>100.0</td>\n",
              "      <td>518.67</td>\n",
              "      <td>642.37</td>\n",
              "      <td>1582.85</td>\n",
              "      <td>1406.22</td>\n",
              "      <td>14.62</td>\n",
              "      <td>21.61</td>\n",
              "      <td>554.00</td>\n",
              "      <td>2388.06</td>\n",
              "      <td>9055.15</td>\n",
              "      <td>1.30</td>\n",
              "      <td>47.28</td>\n",
              "      <td>522.19</td>\n",
              "      <td>2388.04</td>\n",
              "      <td>8133.80</td>\n",
              "      <td>8.4294</td>\n",
              "      <td>0.03</td>\n",
              "      <td>393</td>\n",
              "      <td>2388</td>\n",
              "      <td>100.0</td>\n",
              "      <td>38.90</td>\n",
              "      <td>23.4044</td>\n",
              "      <td>1</td>\n",
              "      <td>1</td>\n",
              "    </tr>\n",
              "    <tr>\n",
              "      <th>...</th>\n",
              "      <td>...</td>\n",
              "      <td>...</td>\n",
              "      <td>...</td>\n",
              "      <td>...</td>\n",
              "      <td>...</td>\n",
              "      <td>...</td>\n",
              "      <td>...</td>\n",
              "      <td>...</td>\n",
              "      <td>...</td>\n",
              "      <td>...</td>\n",
              "      <td>...</td>\n",
              "      <td>...</td>\n",
              "      <td>...</td>\n",
              "      <td>...</td>\n",
              "      <td>...</td>\n",
              "      <td>...</td>\n",
              "      <td>...</td>\n",
              "      <td>...</td>\n",
              "      <td>...</td>\n",
              "      <td>...</td>\n",
              "      <td>...</td>\n",
              "      <td>...</td>\n",
              "      <td>...</td>\n",
              "      <td>...</td>\n",
              "      <td>...</td>\n",
              "      <td>...</td>\n",
              "      <td>...</td>\n",
              "      <td>...</td>\n",
              "    </tr>\n",
              "    <tr>\n",
              "      <th>61244</th>\n",
              "      <td>709</td>\n",
              "      <td>251</td>\n",
              "      <td>9.9998</td>\n",
              "      <td>0.2500</td>\n",
              "      <td>100.0</td>\n",
              "      <td>489.05</td>\n",
              "      <td>605.33</td>\n",
              "      <td>1516.36</td>\n",
              "      <td>1315.28</td>\n",
              "      <td>10.52</td>\n",
              "      <td>15.46</td>\n",
              "      <td>404.59</td>\n",
              "      <td>2319.66</td>\n",
              "      <td>8840.16</td>\n",
              "      <td>1.27</td>\n",
              "      <td>46.08</td>\n",
              "      <td>380.16</td>\n",
              "      <td>2388.73</td>\n",
              "      <td>8185.69</td>\n",
              "      <td>8.4541</td>\n",
              "      <td>0.03</td>\n",
              "      <td>372</td>\n",
              "      <td>2319</td>\n",
              "      <td>100.0</td>\n",
              "      <td>29.11</td>\n",
              "      <td>17.5234</td>\n",
              "      <td>0</td>\n",
              "      <td>0</td>\n",
              "    </tr>\n",
              "    <tr>\n",
              "      <th>61245</th>\n",
              "      <td>709</td>\n",
              "      <td>252</td>\n",
              "      <td>0.0028</td>\n",
              "      <td>0.0015</td>\n",
              "      <td>100.0</td>\n",
              "      <td>518.67</td>\n",
              "      <td>643.42</td>\n",
              "      <td>1598.92</td>\n",
              "      <td>1426.77</td>\n",
              "      <td>14.62</td>\n",
              "      <td>21.57</td>\n",
              "      <td>567.59</td>\n",
              "      <td>2388.47</td>\n",
              "      <td>9117.12</td>\n",
              "      <td>1.31</td>\n",
              "      <td>48.04</td>\n",
              "      <td>535.02</td>\n",
              "      <td>2388.46</td>\n",
              "      <td>8185.47</td>\n",
              "      <td>8.2221</td>\n",
              "      <td>0.03</td>\n",
              "      <td>396</td>\n",
              "      <td>2388</td>\n",
              "      <td>100.0</td>\n",
              "      <td>39.38</td>\n",
              "      <td>23.7151</td>\n",
              "      <td>0</td>\n",
              "      <td>0</td>\n",
              "    </tr>\n",
              "    <tr>\n",
              "      <th>61246</th>\n",
              "      <td>709</td>\n",
              "      <td>253</td>\n",
              "      <td>0.0029</td>\n",
              "      <td>0.0000</td>\n",
              "      <td>100.0</td>\n",
              "      <td>518.67</td>\n",
              "      <td>643.68</td>\n",
              "      <td>1607.72</td>\n",
              "      <td>1430.56</td>\n",
              "      <td>14.62</td>\n",
              "      <td>21.57</td>\n",
              "      <td>569.04</td>\n",
              "      <td>2388.51</td>\n",
              "      <td>9126.53</td>\n",
              "      <td>1.31</td>\n",
              "      <td>48.24</td>\n",
              "      <td>535.41</td>\n",
              "      <td>2388.48</td>\n",
              "      <td>8193.94</td>\n",
              "      <td>8.2525</td>\n",
              "      <td>0.03</td>\n",
              "      <td>395</td>\n",
              "      <td>2388</td>\n",
              "      <td>100.0</td>\n",
              "      <td>39.78</td>\n",
              "      <td>23.8270</td>\n",
              "      <td>0</td>\n",
              "      <td>0</td>\n",
              "    </tr>\n",
              "    <tr>\n",
              "      <th>61247</th>\n",
              "      <td>709</td>\n",
              "      <td>254</td>\n",
              "      <td>35.0046</td>\n",
              "      <td>0.8400</td>\n",
              "      <td>100.0</td>\n",
              "      <td>449.44</td>\n",
              "      <td>555.77</td>\n",
              "      <td>1381.29</td>\n",
              "      <td>1148.18</td>\n",
              "      <td>5.48</td>\n",
              "      <td>7.96</td>\n",
              "      <td>199.93</td>\n",
              "      <td>2223.78</td>\n",
              "      <td>8403.64</td>\n",
              "      <td>1.05</td>\n",
              "      <td>42.53</td>\n",
              "      <td>187.92</td>\n",
              "      <td>2388.83</td>\n",
              "      <td>8125.64</td>\n",
              "      <td>9.0515</td>\n",
              "      <td>0.02</td>\n",
              "      <td>337</td>\n",
              "      <td>2223</td>\n",
              "      <td>100.0</td>\n",
              "      <td>15.26</td>\n",
              "      <td>9.0774</td>\n",
              "      <td>0</td>\n",
              "      <td>0</td>\n",
              "    </tr>\n",
              "    <tr>\n",
              "      <th>61248</th>\n",
              "      <td>709</td>\n",
              "      <td>255</td>\n",
              "      <td>42.0030</td>\n",
              "      <td>0.8400</td>\n",
              "      <td>100.0</td>\n",
              "      <td>445.00</td>\n",
              "      <td>549.85</td>\n",
              "      <td>1369.75</td>\n",
              "      <td>1147.45</td>\n",
              "      <td>3.91</td>\n",
              "      <td>5.69</td>\n",
              "      <td>142.47</td>\n",
              "      <td>2212.52</td>\n",
              "      <td>8391.31</td>\n",
              "      <td>1.05</td>\n",
              "      <td>42.60</td>\n",
              "      <td>134.32</td>\n",
              "      <td>2388.66</td>\n",
              "      <td>8144.33</td>\n",
              "      <td>9.1207</td>\n",
              "      <td>0.02</td>\n",
              "      <td>333</td>\n",
              "      <td>2212</td>\n",
              "      <td>100.0</td>\n",
              "      <td>10.66</td>\n",
              "      <td>6.4341</td>\n",
              "      <td>0</td>\n",
              "      <td>0</td>\n",
              "    </tr>\n",
              "  </tbody>\n",
              "</table>\n",
              "<p>160359 rows × 28 columns</p>\n",
              "</div>"
            ],
            "text/plain": [
              "        id  Time (Cycles)      OS1  ...      S21  Condition (One)  Fault ONE\n",
              "0        1              1  -0.0007  ...  23.4190                1          1\n",
              "1        1              2   0.0019  ...  23.4236                1          1\n",
              "2        1              3  -0.0043  ...  23.3442                1          1\n",
              "3        1              4   0.0007  ...  23.3739                1          1\n",
              "4        1              5  -0.0019  ...  23.4044                1          1\n",
              "...    ...            ...      ...  ...      ...              ...        ...\n",
              "61244  709            251   9.9998  ...  17.5234                0          0\n",
              "61245  709            252   0.0028  ...  23.7151                0          0\n",
              "61246  709            253   0.0029  ...  23.8270                0          0\n",
              "61247  709            254  35.0046  ...   9.0774                0          0\n",
              "61248  709            255  42.0030  ...   6.4341                0          0\n",
              "\n",
              "[160359 rows x 28 columns]"
            ]
          },
          "metadata": {
            "tags": []
          }
        }
      ]
    },
    {
      "cell_type": "markdown",
      "metadata": {
        "colab_type": "text",
        "id": "lAl6DjVwhdhU"
      },
      "source": [
        "At this stage, we create the truth remaining useful life (RUL) for the training set.\n",
        "\n",
        "Important note: In the training set, the last Cycle (represented in the table by 'Time (Cycles)') is when the engine is considered unusable. However, in the test set, the last cycle IS NOT when the engine is considered unusable. It will fail at a later time. Thus, in the valid_pd, we have the true RUL. "
      ]
    },
    {
      "cell_type": "code",
      "metadata": {
        "colab_type": "code",
        "id": "UdbuXXApd51H",
        "colab": {}
      },
      "source": [
        "#Adding column for remaining useful life (RUL)\n",
        "\n",
        "y_train = pd.DataFrame(train_pd.groupby(['id'])['Time (Cycles)'].max())\n",
        "\n",
        "train_pd = pd.merge(train_pd,y_train, on='id')\n",
        "train_pd['RUL'] = train_pd['Time (Cycles)_y'] - train_pd['Time (Cycles)_x']\n",
        "train_pd = train_pd.drop('Time (Cycles)_y',1)\n",
        "train_pd = train_pd.rename(columns = {'Time (Cycles)_x':'Time (Cycles)'})\n",
        "\n",
        "y_train = train_pd.iloc[:,28]\n"
      ],
      "execution_count": 0,
      "outputs": []
    },
    {
      "cell_type": "code",
      "metadata": {
        "colab_type": "code",
        "id": "Vhz30Roasqsx",
        "colab": {}
      },
      "source": [
        "def model_score(y_true, y_pred):\n",
        "  pred_df = pd.DataFrame(y_pred)\n",
        "  test_err = pd.concat([y_true,pred_df], axis=1)\n",
        "  test_err.columns = ['RUL', 'Pred_RUL']\n",
        "  a1 = 10\n",
        "  a2 = 13\n",
        "  score=0\n",
        "\n",
        "  for index, row in test_err.iterrows():\n",
        "    d = row['Pred_RUL'] - row['RUL']\n",
        "    if d < 0:\n",
        "      score += np.expm1(-(d/a1))\n",
        "    else:\n",
        "      score += np.expm1(d/a2)\n",
        "\n",
        "  return score"
      ],
      "execution_count": 0,
      "outputs": []
    },
    {
      "cell_type": "markdown",
      "metadata": {
        "colab_type": "text",
        "id": "IBSnn8dg_S-f"
      },
      "source": [
        "\n",
        "# Data Exploration\n",
        "\n",
        "**Now that we have our data, we can get to know our dataset**"
      ]
    },
    {
      "cell_type": "code",
      "metadata": {
        "colab_type": "code",
        "id": "gLyYj7yG_O7J",
        "colab": {}
      },
      "source": [
        "display(train_pd.head())\n",
        "\n",
        "display(test_pd)\n",
        "\n",
        "\n",
        "print(f'The training dataset contains {train_pd.shape[0]} rows.')\n"
      ],
      "execution_count": 0,
      "outputs": []
    },
    {
      "cell_type": "code",
      "metadata": {
        "colab_type": "code",
        "id": "MolsPcwA8oH2",
        "colab": {}
      },
      "source": [
        "# Print out a table with count, mean, std, min, max, 25%, 50%, 75%\n",
        "\n",
        "print(train_pd.describe())"
      ],
      "execution_count": 0,
      "outputs": []
    },
    {
      "cell_type": "markdown",
      "metadata": {
        "colab_type": "text",
        "id": "e9NjbN8Ul_QA"
      },
      "source": [
        "**Exploring the effects of sensors on RUL**\n",
        "\n"
      ]
    },
    {
      "cell_type": "code",
      "metadata": {
        "colab_type": "code",
        "id": "5gRZJbxko0zO",
        "colab": {}
      },
      "source": [
        "\n",
        "\n",
        "print(sns.heatmap(train_pd.corr(), annot=True, cmap='RdYlGn'))\n",
        "\n",
        "train_pd.corr()"
      ],
      "execution_count": 0,
      "outputs": []
    },
    {
      "cell_type": "code",
      "metadata": {
        "colab_type": "code",
        "id": "Kg9ioWTZpt4c",
        "colab": {}
      },
      "source": [
        "print()"
      ],
      "execution_count": 0,
      "outputs": []
    },
    {
      "cell_type": "markdown",
      "metadata": {
        "colab_type": "text",
        "id": "Xk-xi71-oicW"
      },
      "source": [
        "**Exploring correlation between variables**"
      ]
    },
    {
      "cell_type": "code",
      "metadata": {
        "colab_type": "code",
        "id": "vqocxW0Qohvj",
        "colab": {}
      },
      "source": [
        "corr = train_pd.groupby(['RUL']).corr()\n",
        "corr.style.background_gradient(cmap='coolwarm')"
      ],
      "execution_count": 0,
      "outputs": []
    },
    {
      "cell_type": "markdown",
      "metadata": {
        "colab_type": "text",
        "id": "rd8Y35kaDfly"
      },
      "source": [
        "**How do we know when an engine fails?**\n",
        "\n",
        "We look at the last time cycle for every id.\n",
        "\n"
      ]
    },
    {
      "cell_type": "code",
      "metadata": {
        "colab_type": "code",
        "id": "uVn0ZdmKDsb0",
        "colab": {}
      },
      "source": [
        "train_pd.groupby(['id'])['Time (Cycles)'].max().hist(bins=30, grid=False)\n",
        "plt.xlabel('Number of Cycles')\n",
        "plt.ylabel('Frequency')\n"
      ],
      "execution_count": 0,
      "outputs": []
    },
    {
      "cell_type": "markdown",
      "metadata": {
        "colab_type": "text",
        "id": "n-7vUK4u85DO"
      },
      "source": [
        "#**Model 1: Multiple Linear Regression**\n",
        "\n",
        "\n",
        "\n",
        "\n"
      ]
    },
    {
      "cell_type": "markdown",
      "metadata": {
        "colab_type": "text",
        "id": "-mn7nZq39QVV"
      },
      "source": [
        "**Preparing data**"
      ]
    },
    {
      "cell_type": "code",
      "metadata": {
        "colab_type": "code",
        "id": "JSvBTo9285u0",
        "colab": {
          "base_uri": "https://localhost:8080/",
          "height": 1000
        },
        "outputId": "b4179849-a085-47f2-b5fc-3a08c8c06516"
      },
      "source": [
        "# Scaling data\n",
        "\n",
        "train_pd_scaled = train_pd.copy()\n",
        "train_pd_scaled.iloc[:,2:26] = scaler.fit_transform(train_pd.iloc[:,2:26])\n",
        "\n",
        "test_pd_scaled = test_pd.copy()\n",
        "test_pd_scaled.iloc[:,2:26] = scaler.fit_transform(test_pd.iloc[:,2:26])\n",
        "\n",
        "pd.set_option('display.max_columns', None)  \n",
        "pd.set_option('display.max_colwidth', -1)\n",
        "\n",
        "print(train_pd_scaled)\n"
      ],
      "execution_count": 8,
      "outputs": [
        {
          "output_type": "stream",
          "text": [
            "         id  Time (Cycles)       OS1       OS2       OS3        S1        S2  \\\n",
            "0       1    1             -1.041429 -1.115418  0.345955  1.079185  1.046626   \n",
            "1       1    2             -1.041272 -1.115146  0.345955  1.079185  1.054395   \n",
            "2       1    3             -1.041647 -1.113516  0.345955  1.079185  1.059103   \n",
            "3       1    4             -1.041344 -1.114331  0.345955  1.079185  1.059103   \n",
            "4       1    5             -1.041502 -1.114874  0.345955  1.079185  1.059574   \n",
            "...    ..   ..                   ...       ...       ...       ...       ...   \n",
            "160354  709  251           -0.436363 -0.434867  0.345955  0.105492  0.187601   \n",
            "160355  709  252           -1.041217 -1.110254  0.345955  1.079185  1.084292   \n",
            "160356  709  253           -1.041211 -1.114331  0.345955  1.079185  1.090413   \n",
            "160357  709  254            1.076518  1.168668  0.345955 -1.196599 -0.979110   \n",
            "160358  709  255            1.499947  1.168668  0.345955 -1.342554 -1.118475   \n",
            "\n",
            "              S3        S4        S5        S6        S7        S8        S9  \\\n",
            "0       1.037990  1.024534  1.107714  1.115018  1.117707  0.802032  0.983932   \n",
            "1       1.055929  1.043169  1.107714  1.115018  1.114204  0.801891  0.978273   \n",
            "2       1.023520  1.050946  1.107714  1.115018  1.117133  0.802172  1.001949   \n",
            "3       0.979517  1.033851  1.107714  1.115018  1.118224  0.802383  0.992713   \n",
            "4       0.980025  1.065766  1.107714  1.115018  1.115640  0.802032  1.007847   \n",
            "...          ...       ...       ...       ...       ...       ...       ...   \n",
            "160354  0.417384  0.398560  0.146523  0.160627  0.257619  0.321783  0.434015   \n",
            "160355  1.116010  1.216537  1.107714  1.108810  1.193683  0.804910  1.173252   \n",
            "160356  1.190476  1.244343  1.107714  1.108810  1.202010  0.805191  1.198369   \n",
            "160357 -0.725583 -0.827415 -1.035039 -1.003264 -0.917688 -0.351408 -0.731107   \n",
            "160358 -0.823235 -0.832771 -1.403104 -1.355535 -1.247665 -0.430467 -0.764017   \n",
            "\n",
            "             S10       S11       S12       S13       S14       S15       S16  \\\n",
            "0       1.029505  0.950857  1.113752  0.345200  0.616065 -0.845217  0.963589   \n",
            "1       1.029505  0.956694  1.117528  0.345649  0.527629 -0.828851  0.963589   \n",
            "2       1.029505  0.892485  1.118380  0.345289  0.549211 -0.847479  0.963589   \n",
            "3       1.029505  0.851625  1.121060  0.345739  0.556653 -0.913473  0.963589   \n",
            "4       1.029505  0.895404  1.116979  0.345379  0.556281 -0.832044  0.963589   \n",
            "...          ...       ...       ...       ...       ...       ...       ...   \n",
            "160354  0.818389  0.545175  0.251961  0.351586  1.199894 -0.799180  0.963589   \n",
            "160355  1.099876  1.117215  1.195119  0.349158  1.197165 -1.107864  0.963589   \n",
            "160356  1.099876  1.175587  1.197495  0.349337  1.302222 -1.067416  0.963589   \n",
            "160357 -0.729789 -0.490918 -0.918857  0.352486  0.455069 -0.004320 -1.037786   \n",
            "160358 -0.729789 -0.470488 -1.245302  0.350957  0.686889  0.087753 -1.037786   \n",
            "\n",
            "             S17       S18       S19       S20       S21  Condition (One)  \\\n",
            "0       1.009022  0.801655  0.345955  1.121962  1.119494  1                 \n",
            "1       1.009022  0.801655  0.345955  1.116830  1.120150  1                 \n",
            "2       0.944550  0.801655  0.345955  1.112553  1.108831  1                 \n",
            "3       1.009022  0.801655  0.345955  1.106566  1.113065  1                 \n",
            "4       1.041258  0.801655  0.345955  1.108277  1.117413  1                 \n",
            "...          ...       ...       ...       ...       ... ..                 \n",
            "160354  0.364304  0.317487  0.345955  0.270908  0.279072  0                 \n",
            "160355  1.137965  0.801655  0.345955  1.149333  1.161703  0                 \n",
            "160356  1.105729  0.801655  0.345955  1.183546  1.177655  0                 \n",
            "160357 -0.763952 -0.356137  0.345955 -0.913725 -0.924912  0                 \n",
            "160358 -0.892895 -0.433323  0.345955 -1.307177 -1.301717  0                 \n",
            "\n",
            "        Fault ONE  RUL  \n",
            "0       1          191  \n",
            "1       1          190  \n",
            "2       1          189  \n",
            "3       1          188  \n",
            "4       1          187  \n",
            "...    ..          ...  \n",
            "160354  0          4    \n",
            "160355  0          3    \n",
            "160356  0          2    \n",
            "160357  0          1    \n",
            "160358  0          0    \n",
            "\n",
            "[160359 rows x 29 columns]\n"
          ],
          "name": "stdout"
        }
      ]
    },
    {
      "cell_type": "code",
      "metadata": {
        "colab_type": "code",
        "id": "ENkana6AH9LA",
        "colab": {
          "base_uri": "https://localhost:8080/",
          "height": 1000
        },
        "outputId": "445553d2-feae-4eee-9986-2b95f2c7b3cc"
      },
      "source": [
        "# Removing RUL and id columns, as we do not want these features to be in our predictors\n",
        "\n",
        "train_pd_lm = train_pd_scaled.copy()\n",
        "train_pd_lm = train_pd_lm.drop(['id', 'RUL'],axis=1)\n",
        "\n",
        "# Keeping only last time cycle for each id\n",
        "\n",
        "idx = test_pd_scaled.groupby(['id'])['Time (Cycles)'].transform(max) == test_pd_scaled['Time (Cycles)']\n",
        "test_pd_lm = test_pd_scaled[idx]\n",
        "\n",
        "# Removing id column\n",
        "\n",
        "test_pd_lm = test_pd_lm.drop(['id'], axis=1)\n",
        "\n",
        "print(test_pd_lm)"
      ],
      "execution_count": 9,
      "outputs": [
        {
          "output_type": "stream",
          "text": [
            "       Time (Cycles)       OS1       OS2       OS3        S1        S2  \\\n",
            "30     31            -1.043215 -1.115222  0.344855  1.080588  1.070615   \n",
            "79     49            -1.043070 -1.116581  0.344855  1.080588  1.069908   \n",
            "205    126           -1.043276 -1.115222  0.344855  1.080588  1.077685   \n",
            "311    106           -1.043106 -1.115222  0.344855  1.080588  1.075328   \n",
            "409    98            -1.043257 -1.117396  0.344855  1.080588  1.063309   \n",
            "...    ..                  ...       ...       ...       ...       ...   \n",
            "40746  184            0.166962  0.785472  0.344855  0.177433  0.254220   \n",
            "40809  63             0.167137  0.790091  0.344855  0.177433  0.222874   \n",
            "40838  29             0.166629  0.787646  0.344855  0.177433  0.227823   \n",
            "40932  94             0.469362  0.572473 -2.899767 -0.764176 -1.419815   \n",
            "41213  281            1.074629  1.166372  0.344855 -1.194719 -0.960475   \n",
            "\n",
            "             S3        S4        S5        S6        S7        S8        S9  \\\n",
            "30     0.988336  1.043774  1.109408  1.116990  1.120571  0.803554  1.031441   \n",
            "79     1.033900  1.131597  1.109408  1.116990  1.115401  0.803695  1.000278   \n",
            "205    1.060713  1.190980  1.109408  1.116990  1.110058  0.804117  1.012309   \n",
            "311    1.101270  1.102495  1.109408  1.116990  1.110345  0.803906  1.017775   \n",
            "409    1.062325  1.194443  1.109408  1.116990  1.114079  0.803695  1.024983   \n",
            "...         ...       ...       ...       ...       ...       ...       ...   \n",
            "40746  0.199494 -0.012675 -0.126082 -0.116853 -0.141665  0.354192  0.242294   \n",
            "40809  0.142051 -0.139546 -0.126082 -0.118405 -0.130634  0.352222  0.148109   \n",
            "40838  0.155033 -0.117296 -0.126082 -0.118405 -0.140861  0.352011  0.136104   \n",
            "40932 -1.723017 -1.509711 -0.665290 -0.835430 -1.054474 -2.522656 -1.781444   \n",
            "41213 -0.731046 -0.858631 -1.033358 -0.995287 -0.948646 -0.354361 -0.746263   \n",
            "\n",
            "            S10       S11       S12       S13       S14       S15       S16  \\\n",
            "30     1.034820  0.918932  1.117260  0.344925  0.575289 -0.860776  0.992317   \n",
            "79     1.034820  1.048028  1.116955  0.345196  0.534633 -0.796504  0.992317   \n",
            "205    1.034820  1.109642  1.111410  0.345647  0.592387 -0.848082  0.992317   \n",
            "311    1.034820  1.042160  1.117808  0.345376  0.619998 -0.779267  0.992317   \n",
            "409    1.034820  0.986414  1.112446  0.345737  0.519942 -0.815612  0.992317   \n",
            "...         ...       ...       ...       ...       ...       ...       ...   \n",
            "40746 -0.514170  0.170763 -0.143727  0.347901  0.118197  0.279410 -1.007742   \n",
            "40809 -0.514170  0.041667 -0.136781  0.344655 -0.226680  0.127617 -1.007742   \n",
            "40838 -0.514170 -0.025815 -0.141473  0.344565 -0.301785  0.173984 -1.007742   \n",
            "40932 -1.499890 -2.082547 -1.059275 -2.899912 -2.611688  2.520899 -1.007742   \n",
            "41213 -0.936621 -0.592076 -0.953979  0.349705  0.170758  0.467415 -1.007742   \n",
            "\n",
            "            S17       S18       S19       S20       S21  Condition (One)  \\\n",
            "30     1.063997  0.802702  0.344855  1.099067  1.108854  1                 \n",
            "79     0.999340  0.802702  0.344855  1.099067  1.095551  1                 \n",
            "205    1.128655  0.802702  0.344855  1.109322  1.097288  1                 \n",
            "311    1.128655  0.802702  0.344855  1.079410  1.095023  1                 \n",
            "409    1.096326  0.802702  0.344855  1.093939  1.116902  1                 \n",
            "...         ...       ...       ...       ...       ... ..                 \n",
            "40746  0.126467  0.352687  0.344855 -0.130747 -0.148753  0                 \n",
            "40809  0.094138  0.352687  0.344855 -0.106818 -0.104668  0                 \n",
            "40838  0.126467  0.352687  0.344855 -0.106818 -0.118698  0                 \n",
            "40932 -1.716266 -2.523192 -2.899767 -1.003326 -1.011077  0                 \n",
            "41213 -0.811064 -0.357493  0.344855 -0.959740 -0.957221  0                 \n",
            "\n",
            "       Fault ONE  \n",
            "30     1          \n",
            "79     1          \n",
            "205    1          \n",
            "311    1          \n",
            "409    1          \n",
            "...   ..          \n",
            "40746  0          \n",
            "40809  0          \n",
            "40838  0          \n",
            "40932  0          \n",
            "41213  0          \n",
            "\n",
            "[707 rows x 27 columns]\n"
          ],
          "name": "stdout"
        }
      ]
    },
    {
      "cell_type": "markdown",
      "metadata": {
        "colab_type": "text",
        "id": "1taB9Kg6Nz_P"
      },
      "source": [
        "**Fitting Linear Model (Not time sensitive)**"
      ]
    },
    {
      "cell_type": "code",
      "metadata": {
        "colab_type": "code",
        "id": "FvtozoRK9Xxj",
        "outputId": "38bf3cf2-edbf-4957-f73f-5cd87deacfa7",
        "colab": {
          "base_uri": "https://localhost:8080/",
          "height": 34
        }
      },
      "source": [
        "# Fitting Linear model\n",
        "\n",
        "reg = LinearRegression().fit(train_pd_lm, y_train)\n",
        "\n",
        "y_pred = reg.predict(test_pd_lm)\n",
        "\n",
        "acc_score_lm =  metrics.mean_absolute_error(valid_pd, y_pred)\n",
        "\n",
        "print(f'The mean absolute error for the linear model is: {(acc_score_lm)}.')\n"
      ],
      "execution_count": 84,
      "outputs": [
        {
          "output_type": "stream",
          "text": [
            "The mean absolute error for the linear model is: 44.965450059476375.\n"
          ],
          "name": "stdout"
        }
      ]
    },
    {
      "cell_type": "markdown",
      "metadata": {
        "id": "nx7pJ2iVgTwi",
        "colab_type": "text"
      },
      "source": [
        "**Linear Model with interactions & Polynomial**\n",
        "\n"
      ]
    },
    {
      "cell_type": "code",
      "metadata": {
        "id": "T0rRYfxNhg3u",
        "colab_type": "code",
        "colab": {}
      },
      "source": [
        "# The PolynomialFeatures transforms our dataset to include ALL interactions and ALL variables^2.\n",
        "\n",
        "lm_poly_int = PolynomialFeatures(2)\n",
        "train_pd_lm_poly = lm_poly_int.fit_transform(train_pd_lm)\n",
        "\n",
        "reg_poly = LinearRegression().fit(train_pd_lm_poly,y_train)"
      ],
      "execution_count": 0,
      "outputs": []
    },
    {
      "cell_type": "code",
      "metadata": {
        "id": "fSJhNHznjrlb",
        "colab_type": "code",
        "outputId": "92807f6d-afb9-4a29-ad91-03e0bb9e0b37",
        "colab": {
          "base_uri": "https://localhost:8080/",
          "height": 34
        }
      },
      "source": [
        "test_pd_lm_poly = lm_poly_int.fit_transform(test_pd_lm)\n",
        "\n",
        "y_pred_poly = reg_poly.predict(test_pd_lm_poly)\n",
        "\n",
        "acc_score_lm_poly =  metrics.mean_absolute_error(valid_pd, y_pred_poly)\n",
        "\n",
        "print(f'The mean absolute error for the linear model is: {(acc_score_lm_poly)}.')\n",
        "\n",
        "# We conclude that there is probabily high colinearity in the variables, so a model including interactions would not help much."
      ],
      "execution_count": 86,
      "outputs": [
        {
          "output_type": "stream",
          "text": [
            "The mean absolute error for the linear model is: 6690.860898272314.\n"
          ],
          "name": "stdout"
        }
      ]
    },
    {
      "cell_type": "markdown",
      "metadata": {
        "id": "uhYn-0V5kSw9",
        "colab_type": "text"
      },
      "source": [
        "#**Model 3: Recurrent Neural Networks with LSTM architecture**"
      ]
    },
    {
      "cell_type": "code",
      "metadata": {
        "colab_type": "code",
        "id": "YhFj4atfNtGW",
        "colab": {
          "base_uri": "https://localhost:8080/",
          "height": 51
        },
        "outputId": "cce54061-f6b5-4426-92ef-0eeae9de3bb1"
      },
      "source": [
        "# Using Azure tutorial for predictive maintenance for data manipulation\n",
        "# Reference: https://github.com/Azure/lstms_for_predictive_maintenance/blob/master/Deep%20Learning%20Basics%20for%20Predictive%20Maintenance.ipynb\n",
        "\n",
        "# Picking a sequence length - This will be the window of time in which the LSTM will gather data from\n",
        "\n",
        "sequence_length = 50\n",
        "\n",
        "\n",
        "# This function will reshape our data so it can be usable with Keras (Samples, time window, features)\n",
        "def gen_sequence(id_df, seq_length,seq_cols):\n",
        "  data_array = id_df[seq_cols].values\n",
        "  num_elements = data_array.shape[0]\n",
        "  for start,stop in zip(range(0, num_elements-seq_length), range(seq_length, num_elements)):\n",
        "    yield data_array[start:stop,:]\n",
        "\n",
        "# Reference column names\n",
        "\n",
        "sensor_cols = ['S' + str(i) for i in range(1,22)]\n",
        "sequence_cols = ['Time (Cycles)', 'OS1', 'OS2', 'OS3']\n",
        "other_cols = ['Condition (One)', 'Fault ONE']\n",
        "sequence_cols.extend(sensor_cols)\n",
        "sequence_cols.extend(other_cols)\n",
        "\n",
        "# Generating sequences\n",
        "\n",
        "seq_gen = (list(gen_sequence(train_pd_scaled[train_pd_scaled['id']==id], sequence_length,sequence_cols))\n",
        "          for id in train_pd_scaled['id'].unique())\n",
        "\n",
        "# Generate sequences and convert to numpy array\n",
        "\n",
        "seq_array = np.concatenate(list(seq_gen)).astype(np.float32)\n",
        "print(seq_array.shape)\n",
        "\n",
        "def gen_labels(id_df, seq_length, label):\n",
        "  data = id_df[label].values\n",
        "  num_elements = data.shape[0]\n",
        "  return data[seq_length:num_elements,:]\n",
        "\n",
        "label_gen = [gen_labels(train_pd_scaled[train_pd_scaled['id']==id], sequence_length, ['RUL'])\n",
        "            for id in train_pd_scaled['id'].unique()]\n",
        "\n",
        "label_array = np.concatenate(label_gen).astype(np.float32)\n",
        "print(seq_gen)"
      ],
      "execution_count": 10,
      "outputs": [
        {
          "output_type": "stream",
          "text": [
            "(124909, 50, 27)\n",
            "<generator object <genexpr> at 0x7fb4110cc360>\n"
          ],
          "name": "stdout"
        }
      ]
    },
    {
      "cell_type": "code",
      "metadata": {
        "id": "J7CzDE0PV9a0",
        "colab_type": "code",
        "colab": {
          "base_uri": "https://localhost:8080/",
          "height": 306
        },
        "outputId": "f2cddcfe-522d-415a-8aec-ad6088d0712c"
      },
      "source": [
        "# Building the RNN\n",
        "\n",
        "nb_features = seq_array.shape[2]\n",
        "nb_out = label_array.shape[1]\n",
        "\n",
        "model = Sequential()\n",
        "model.add(LSTM(input_shape=(sequence_length, nb_features), units=100, return_sequences=True))\n",
        "model.add(LSTM(input_shape=(sequence_length, nb_features), units=100, return_sequences=False))\n",
        "\n",
        "\n",
        "model.add(Dense(units=nb_out))\n",
        "model.add(Activation('linear'))\n",
        "model.compile(loss='mean_squared_error', optimizer='rmsprop', metrics=['mae'])\n",
        "\n",
        "print(model.summary())\n"
      ],
      "execution_count": 15,
      "outputs": [
        {
          "output_type": "stream",
          "text": [
            "Model: \"sequential_3\"\n",
            "_________________________________________________________________\n",
            "Layer (type)                 Output Shape              Param #   \n",
            "=================================================================\n",
            "lstm_10 (LSTM)               (None, 50, 100)           51200     \n",
            "_________________________________________________________________\n",
            "lstm_11 (LSTM)               (None, 100)               80400     \n",
            "_________________________________________________________________\n",
            "dense_3 (Dense)              (None, 1)                 101       \n",
            "_________________________________________________________________\n",
            "activation_3 (Activation)    (None, 1)                 0         \n",
            "=================================================================\n",
            "Total params: 131,701\n",
            "Trainable params: 131,701\n",
            "Non-trainable params: 0\n",
            "_________________________________________________________________\n",
            "None\n"
          ],
          "name": "stdout"
        }
      ]
    },
    {
      "cell_type": "code",
      "metadata": {
        "id": "DhCTv_y1dYxz",
        "colab_type": "code",
        "colab": {
          "base_uri": "https://localhost:8080/",
          "height": 170
        },
        "outputId": "aef2cf1d-ff22-4dfb-94a5-834aceb3e12e"
      },
      "source": [
        "# Fitting the RNN\n",
        "\n",
        "NNmodel = model.fit(seq_array, label_array, epochs=100, batch_size=200, validation_split=0.05, verbose=1, callbacks =[keras.callbacks.EarlyStopping(monitor='val_loss', min_delta=0, patience=0, verbose=0, mode='min')])"
      ],
      "execution_count": 16,
      "outputs": [
        {
          "output_type": "stream",
          "text": [
            "Train on 118663 samples, validate on 6246 samples\n",
            "Epoch 1/100\n",
            "118663/118663 [==============================] - 226s 2ms/step - loss: 9258.8043 - mean_absolute_error: 70.6739 - val_loss: 6355.2931 - val_mean_absolute_error: 60.6914\n",
            "Epoch 2/100\n",
            "118663/118663 [==============================] - 225s 2ms/step - loss: 5004.5189 - mean_absolute_error: 51.0532 - val_loss: 3692.0614 - val_mean_absolute_error: 48.2885\n",
            "Epoch 3/100\n",
            "118663/118663 [==============================] - 224s 2ms/step - loss: 3591.4863 - mean_absolute_error: 43.5153 - val_loss: 2681.1300 - val_mean_absolute_error: 38.4148\n",
            "Epoch 4/100\n",
            "118663/118663 [==============================] - 226s 2ms/step - loss: 3100.4306 - mean_absolute_error: 40.1883 - val_loss: 2738.3736 - val_mean_absolute_error: 43.6188\n"
          ],
          "name": "stdout"
        }
      ]
    },
    {
      "cell_type": "code",
      "metadata": {
        "id": "QWRJI83J1R67",
        "colab_type": "code",
        "colab": {
          "base_uri": "https://localhost:8080/",
          "height": 918
        },
        "outputId": "9df9cd8e-895a-4c28-ca3e-50580c7369ca"
      },
      "source": [
        "# Adding RUL to test set\n",
        "\n",
        "truth_nn= valid_pd.copy()\n",
        "max_hid = pd.DataFrame(test_pd.groupby('id')['Time (Cycles)'].max()).reset_index()\n",
        "max_hid.columns = ['id','max']\n",
        "truth_nn.columns = ['truth']\n",
        "truth_nn['id'] = truth_nn.index +1\n",
        "truth_nn['truth'] = truth_nn['truth'] + max_hid['max']\n",
        "\n",
        "test_pd_nn = test_pd.copy()\n",
        "test_pd_nn = test_pd_nn.merge(truth_nn, on=['id'], how='left')\n",
        "test_pd_nn['RUL'] = test_pd_nn['truth'] - test_pd_nn['Time (Cycles)']\n",
        "test_pd_nn.drop('truth', axis=1, inplace=True)\n",
        "\n",
        "print(test_pd_nn)"
      ],
      "execution_count": 59,
      "outputs": [
        {
          "output_type": "stream",
          "text": [
            "         id  Time (Cycles)      OS1     OS2    OS3      S1      S2       S3  \\\n",
            "0       1    1              0.0023   0.0003  100.0  518.67  643.02  1585.29   \n",
            "1       1    2             -0.0027  -0.0003  100.0  518.67  641.71  1588.45   \n",
            "2       1    3              0.0003   0.0001  100.0  518.67  642.46  1586.94   \n",
            "3       1    4              0.0042   0.0000  100.0  518.67  642.44  1584.12   \n",
            "4       1    5              0.0014   0.0000  100.0  518.67  642.51  1587.19   \n",
            "...    ..   ..                 ...      ...    ...     ...     ...      ...   \n",
            "104892  707  277            41.9991  0.8401  100.0  445.00  550.30  1364.40   \n",
            "104893  707  278            20.0026  0.7005  100.0  491.19  608.00  1494.75   \n",
            "104894  707  279            34.9988  0.8413  100.0  449.44  555.92  1370.65   \n",
            "104895  707  280            20.0027  0.7000  100.0  491.19  608.19  1489.11   \n",
            "104896  707  281            35.0075  0.8402  100.0  449.44  556.40  1378.58   \n",
            "\n",
            "             S4     S5     S6      S7       S8       S9   S10    S11     S12  \\\n",
            "0       1398.21  14.62  21.61  553.90  2388.04  9050.17  1.30  47.20  521.72   \n",
            "1       1395.42  14.62  21.61  554.85  2388.01  9054.42  1.30  47.50  522.16   \n",
            "2       1401.34  14.62  21.61  554.11  2388.05  9056.96  1.30  47.50  521.97   \n",
            "3       1406.42  14.62  21.61  554.07  2388.03  9045.29  1.30  47.28  521.38   \n",
            "4       1401.92  14.62  21.61  554.16  2388.01  9044.55  1.30  47.31  522.15   \n",
            "...         ...    ...    ...     ...      ...      ...   ...    ...     ...   \n",
            "104892  1129.17  3.91   5.72   138.34  2212.35  8351.73  1.02  42.30  130.87   \n",
            "104893  1260.88  9.35   13.66  334.75  2324.23  8758.69  1.07  44.53  314.51   \n",
            "104894  1130.97  5.48   8.00   194.92  2223.57  8370.49  1.02  42.33  182.76   \n",
            "104895  1256.25  9.35   13.66  333.15  2324.19  8753.04  1.07  44.78  314.17   \n",
            "104896  1140.70  5.48   8.00   194.26  2223.50  8392.96  1.02  42.08  181.88   \n",
            "\n",
            "            S13      S14     S15   S16  S17   S18    S19    S20      S21  \\\n",
            "0       2388.03  8125.55  8.4052  0.03  392  2388  100.0  38.86  23.3735   \n",
            "1       2388.06  8139.62  8.3803  0.03  393  2388  100.0  39.02  23.3916   \n",
            "2       2388.03  8130.10  8.4441  0.03  393  2388  100.0  39.08  23.4166   \n",
            "3       2388.05  8132.90  8.3917  0.03  391  2388  100.0  39.00  23.3737   \n",
            "4       2388.03  8129.54  8.4031  0.03  390  2388  100.0  38.99  23.4130   \n",
            "...         ...      ...     ...   ...  ...   ...    ...    ...      ...   \n",
            "104892  2388.50  8112.61  9.4427  0.02  331  2212  100.0  10.53  6.2620    \n",
            "104893  2388.33  8086.83  9.2772  0.02  366  2324  100.0  24.33  14.6486   \n",
            "104894  2388.64  8100.84  9.3982  0.02  336  2223  100.0  14.69  8.8389    \n",
            "104895  2388.37  8085.24  9.2727  0.03  366  2324  100.0  24.44  14.6887   \n",
            "104896  2388.59  8098.17  9.3964  0.02  335  2223  100.0  14.72  8.8502    \n",
            "\n",
            "        Condition (One)  Fault ONE  RUL  \n",
            "0       1                1          142  \n",
            "1       1                1          141  \n",
            "2       1                1          140  \n",
            "3       1                1          139  \n",
            "4       1                1          138  \n",
            "...    ..               ..          ...  \n",
            "104892  0                0          30   \n",
            "104893  0                0          29   \n",
            "104894  0                0          28   \n",
            "104895  0                0          27   \n",
            "104896  0                0          26   \n",
            "\n",
            "[104897 rows x 29 columns]\n"
          ],
          "name": "stdout"
        }
      ]
    },
    {
      "cell_type": "code",
      "metadata": {
        "id": "mCjYCkhVvv_i",
        "colab_type": "code",
        "colab": {
          "base_uri": "https://localhost:8080/",
          "height": 232
        },
        "outputId": "c3cd21d3-c3d9-473f-ae53-b94b134a705a"
      },
      "source": [
        "# Testing performance on test set\n",
        "\n",
        "seq_array_test = [test_pd_nn[test_pd_nn['id']==id][sequence_cols].values[-sequence_length:]\n",
        "                 for id in test_pd_nn['id'].unique() if len(test_pd_nn[test_pd_nn['id']==id]) >= sequence_length]\n",
        "\n",
        "seq_array_test = np.asarray(seq_array_test).astype(np.float32)\n",
        "\n",
        "y_mask = [len(test_pd_nn[test_pd_nn['id']==id]) >= sequence_length for id in test_pd_nn['id'].unique()]\n",
        "\n",
        "label_array_test = test_pd_nn.groupby('id')['RUL'].nth(-1)[y_mask].values\n",
        "label_array_test = label_array_test.reshape(label_array_test.shape[0],1).astype(np.float32)\n",
        "\n",
        "print(seq_array_test.shape)\n",
        "print(label_aray_test.shape)"
      ],
      "execution_count": 56,
      "outputs": [
        {
          "output_type": "error",
          "ename": "NameError",
          "evalue": "ignored",
          "traceback": [
            "\u001b[0;31m---------------------------------------------------------------------------\u001b[0m",
            "\u001b[0;31mNameError\u001b[0m                                 Traceback (most recent call last)",
            "\u001b[0;32m<ipython-input-56-74460d9e2b4e>\u001b[0m in \u001b[0;36m<module>\u001b[0;34m()\u001b[0m\n\u001b[1;32m      8\u001b[0m \u001b[0;34m\u001b[0m\u001b[0m\n\u001b[1;32m      9\u001b[0m \u001b[0mlabel_array_test\u001b[0m \u001b[0;34m=\u001b[0m \u001b[0mtest_pd_nn\u001b[0m\u001b[0;34m.\u001b[0m\u001b[0mgroupby\u001b[0m\u001b[0;34m(\u001b[0m\u001b[0;34m'id'\u001b[0m\u001b[0;34m)\u001b[0m\u001b[0;34m[\u001b[0m\u001b[0;34m'RUL'\u001b[0m\u001b[0;34m]\u001b[0m\u001b[0;34m.\u001b[0m\u001b[0mnth\u001b[0m\u001b[0;34m(\u001b[0m\u001b[0;34m-\u001b[0m\u001b[0;36m1\u001b[0m\u001b[0;34m)\u001b[0m\u001b[0;34m[\u001b[0m\u001b[0my_mask\u001b[0m\u001b[0;34m]\u001b[0m\u001b[0;34m.\u001b[0m\u001b[0mvalues\u001b[0m\u001b[0;34m\u001b[0m\u001b[0;34m\u001b[0m\u001b[0m\n\u001b[0;32m---> 10\u001b[0;31m \u001b[0mlabel_array_test\u001b[0m \u001b[0;34m=\u001b[0m \u001b[0mlabal_array_test\u001b[0m\u001b[0;34m.\u001b[0m\u001b[0mreshape\u001b[0m\u001b[0;34m(\u001b[0m\u001b[0mlabel_array_test\u001b[0m\u001b[0;34m.\u001b[0m\u001b[0mshape\u001b[0m\u001b[0;34m[\u001b[0m\u001b[0;36m0\u001b[0m\u001b[0;34m]\u001b[0m\u001b[0;34m,\u001b[0m\u001b[0;36m1\u001b[0m\u001b[0;34m)\u001b[0m\u001b[0;34m.\u001b[0m\u001b[0mastype\u001b[0m\u001b[0;34m(\u001b[0m\u001b[0mnp\u001b[0m\u001b[0;34m.\u001b[0m\u001b[0mfloat32\u001b[0m\u001b[0;34m)\u001b[0m\u001b[0;34m\u001b[0m\u001b[0;34m\u001b[0m\u001b[0m\n\u001b[0m\u001b[1;32m     11\u001b[0m \u001b[0;34m\u001b[0m\u001b[0m\n\u001b[1;32m     12\u001b[0m \u001b[0mprint\u001b[0m\u001b[0;34m(\u001b[0m\u001b[0mseq_array_test\u001b[0m\u001b[0;34m.\u001b[0m\u001b[0mshape\u001b[0m\u001b[0;34m)\u001b[0m\u001b[0;34m\u001b[0m\u001b[0;34m\u001b[0m\u001b[0m\n",
            "\u001b[0;31mNameError\u001b[0m: name 'labal_array_test' is not defined"
          ]
        }
      ]
    }
  ]
}